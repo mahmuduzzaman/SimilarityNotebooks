{
 "cells": [
  {
   "cell_type": "markdown",
   "id": "4861112a",
   "metadata": {},
   "source": [
    "# Semantic Search"
   ]
  },
  {
   "cell_type": "markdown",
   "id": "64251235",
   "metadata": {},
   "source": [
    "### Performance on Model (paraphrase-MiniLM-L6-v2)"
   ]
  },
  {
   "cell_type": "code",
   "execution_count": 18,
   "id": "ae4f9b32",
   "metadata": {},
   "outputs": [],
   "source": [
    "from sentence_transformers import SentenceTransformer\n",
    "sentences = [\"This is an example sentence\", \"Each sentence is converted\"]\n",
    "\n",
    "model_p = SentenceTransformer('sentence-transformers/paraphrase-MiniLM-L6-v2')\n",
    "embeddings = model_p.encode(sentences)\n",
    "#print(embeddings)"
   ]
  },
  {
   "cell_type": "code",
   "execution_count": 19,
   "id": "24699867",
   "metadata": {},
   "outputs": [],
   "source": [
    "query_embedding = model_p.encode(\"That is a happy person\")\n",
    "passage_embedding = model_p.encode([\n",
    "            \"That is a happy dog\",\n",
    "            \"That is a very happy person\",\n",
    "            \"Today is a sunny day\"\n",
    "        ])\n"
   ]
  },
  {
   "cell_type": "markdown",
   "id": "676e45b4",
   "metadata": {},
   "source": [
    "### Similarity functions"
   ]
  },
  {
   "cell_type": "code",
   "execution_count": 20,
   "id": "811c0b2f",
   "metadata": {},
   "outputs": [
    {
     "name": "stdout",
     "output_type": "stream",
     "text": [
      "Similarity: tensor([[35.3575, 46.4871, 12.2181]])\n"
     ]
    }
   ],
   "source": [
    "# Dot score\n",
    "from sentence_transformers import  util\n",
    "print(\"Similarity:\", util.dot_score(query_embedding, passage_embedding))"
   ]
  },
  {
   "cell_type": "code",
   "execution_count": 21,
   "id": "fba300cf",
   "metadata": {
    "scrolled": true
   },
   "outputs": [
    {
     "name": "stdout",
     "output_type": "stream",
     "text": [
      "Similarity: tensor([[0.6712, 0.9685, 0.2698]])\n"
     ]
    }
   ],
   "source": [
    "# Cosine score\n",
    "print(\"Similarity:\", util.pytorch_cos_sim(query_embedding, passage_embedding))"
   ]
  },
  {
   "cell_type": "markdown",
   "id": "c4beffc9",
   "metadata": {},
   "source": [
    "### Performance on bigger model all-mpnet-base-v2"
   ]
  },
  {
   "cell_type": "code",
   "execution_count": 11,
   "id": "1267fae9",
   "metadata": {
    "scrolled": true
   },
   "outputs": [
    {
     "data": {
      "application/vnd.jupyter.widget-view+json": {
       "model_id": "5889ea7715e14865b0170d513251a8f3",
       "version_major": 2,
       "version_minor": 0
      },
      "text/plain": [
       "Downloading:   0%|          | 0.00/1.18k [00:00<?, ?B/s]"
      ]
     },
     "metadata": {},
     "output_type": "display_data"
    },
    {
     "data": {
      "application/vnd.jupyter.widget-view+json": {
       "model_id": "0716d0adfb1e4ec5b0c239bc6cbfba0d",
       "version_major": 2,
       "version_minor": 0
      },
      "text/plain": [
       "Downloading:   0%|          | 0.00/10.1k [00:00<?, ?B/s]"
      ]
     },
     "metadata": {},
     "output_type": "display_data"
    },
    {
     "data": {
      "application/vnd.jupyter.widget-view+json": {
       "model_id": "a969e1cd881647d5b8bbedcd4ab8a3cd",
       "version_major": 2,
       "version_minor": 0
      },
      "text/plain": [
       "Downloading:   0%|          | 0.00/571 [00:00<?, ?B/s]"
      ]
     },
     "metadata": {},
     "output_type": "display_data"
    },
    {
     "data": {
      "application/vnd.jupyter.widget-view+json": {
       "model_id": "8435a2ac31ae45e4adc85055d242d497",
       "version_major": 2,
       "version_minor": 0
      },
      "text/plain": [
       "Downloading:   0%|          | 0.00/116 [00:00<?, ?B/s]"
      ]
     },
     "metadata": {},
     "output_type": "display_data"
    },
    {
     "data": {
      "application/vnd.jupyter.widget-view+json": {
       "model_id": "a651f58cffc940eeaf7786bd66688ba8",
       "version_major": 2,
       "version_minor": 0
      },
      "text/plain": [
       "Downloading:   0%|          | 0.00/39.3k [00:00<?, ?B/s]"
      ]
     },
     "metadata": {},
     "output_type": "display_data"
    },
    {
     "data": {
      "application/vnd.jupyter.widget-view+json": {
       "model_id": "3e92348c3a6e4b2db8c0040e524e7557",
       "version_major": 2,
       "version_minor": 0
      },
      "text/plain": [
       "Downloading:   0%|          | 0.00/349 [00:00<?, ?B/s]"
      ]
     },
     "metadata": {},
     "output_type": "display_data"
    },
    {
     "data": {
      "application/vnd.jupyter.widget-view+json": {
       "model_id": "b02a36f321c14ce6bff7a3c6894589a8",
       "version_major": 2,
       "version_minor": 0
      },
      "text/plain": [
       "Downloading:   0%|          | 0.00/438M [00:00<?, ?B/s]"
      ]
     },
     "metadata": {},
     "output_type": "display_data"
    },
    {
     "data": {
      "application/vnd.jupyter.widget-view+json": {
       "model_id": "38f004dcb0584e1fb268ced8c1129ce9",
       "version_major": 2,
       "version_minor": 0
      },
      "text/plain": [
       "Downloading:   0%|          | 0.00/53.0 [00:00<?, ?B/s]"
      ]
     },
     "metadata": {},
     "output_type": "display_data"
    },
    {
     "data": {
      "application/vnd.jupyter.widget-view+json": {
       "model_id": "06b5d40416fb4b34b41323f8c3ba2054",
       "version_major": 2,
       "version_minor": 0
      },
      "text/plain": [
       "Downloading:   0%|          | 0.00/239 [00:00<?, ?B/s]"
      ]
     },
     "metadata": {},
     "output_type": "display_data"
    },
    {
     "data": {
      "application/vnd.jupyter.widget-view+json": {
       "model_id": "9c19dbc45052402587132f26c88eddcd",
       "version_major": 2,
       "version_minor": 0
      },
      "text/plain": [
       "Downloading:   0%|          | 0.00/466k [00:00<?, ?B/s]"
      ]
     },
     "metadata": {},
     "output_type": "display_data"
    },
    {
     "data": {
      "application/vnd.jupyter.widget-view+json": {
       "model_id": "39c2fb96398d4ba89f8603e23c3ce1fb",
       "version_major": 2,
       "version_minor": 0
      },
      "text/plain": [
       "Downloading:   0%|          | 0.00/363 [00:00<?, ?B/s]"
      ]
     },
     "metadata": {},
     "output_type": "display_data"
    },
    {
     "data": {
      "application/vnd.jupyter.widget-view+json": {
       "model_id": "c0bb8088afa54c478cd33988a44f7fb9",
       "version_major": 2,
       "version_minor": 0
      },
      "text/plain": [
       "Downloading:   0%|          | 0.00/13.1k [00:00<?, ?B/s]"
      ]
     },
     "metadata": {},
     "output_type": "display_data"
    },
    {
     "data": {
      "application/vnd.jupyter.widget-view+json": {
       "model_id": "6b336236ab1f4b468c5f715e1a960802",
       "version_major": 2,
       "version_minor": 0
      },
      "text/plain": [
       "Downloading:   0%|          | 0.00/232k [00:00<?, ?B/s]"
      ]
     },
     "metadata": {},
     "output_type": "display_data"
    },
    {
     "data": {
      "application/vnd.jupyter.widget-view+json": {
       "model_id": "34817b7a541d41be9bf99b99456b68bd",
       "version_major": 2,
       "version_minor": 0
      },
      "text/plain": [
       "Downloading:   0%|          | 0.00/190 [00:00<?, ?B/s]"
      ]
     },
     "metadata": {},
     "output_type": "display_data"
    }
   ],
   "source": [
    "from sentence_transformers import SentenceTransformer\n",
    "sentences = [\"This is an example sentence\", \"Each sentence is converted\"]\n",
    "\n",
    "model_p1 = SentenceTransformer('sentence-transformers/all-mpnet-base-v2')\n",
    "embeddings = model_p1.encode(sentences)\n"
   ]
  },
  {
   "cell_type": "code",
   "execution_count": 15,
   "id": "6a3e1b9c",
   "metadata": {},
   "outputs": [],
   "source": [
    "query_embedding1 = model_p1.encode(\"That is a happy person\")\n",
    "passage_embedding1 = model_p1.encode([\n",
    "            \"That is a happy dog\",\n",
    "            \"That is a very happy person\",\n",
    "            \"Today is a sunny day\"\n",
    "        ])\n"
   ]
  },
  {
   "cell_type": "markdown",
   "id": "47fc29b7",
   "metadata": {},
   "source": [
    "### Similarity functions"
   ]
  },
  {
   "cell_type": "code",
   "execution_count": 16,
   "id": "fd33bd3a",
   "metadata": {},
   "outputs": [
    {
     "name": "stdout",
     "output_type": "stream",
     "text": [
      "Similarity: tensor([[0.7640, 0.9666, 0.3148]])\n"
     ]
    }
   ],
   "source": [
    "# Dot score\n",
    "from sentence_transformers import  util\n",
    "print(\"Similarity:\", util.dot_score(query_embedding1, passage_embedding1))"
   ]
  },
  {
   "cell_type": "code",
   "execution_count": 17,
   "id": "cb25235f",
   "metadata": {
    "scrolled": true
   },
   "outputs": [
    {
     "name": "stdout",
     "output_type": "stream",
     "text": [
      "Similarity: tensor([[0.7640, 0.9666, 0.3148]])\n"
     ]
    }
   ],
   "source": [
    "# Cosine score\n",
    "print(\"Similarity:\", util.pytorch_cos_sim(query_embedding1, passage_embedding1))"
   ]
  },
  {
   "cell_type": "code",
   "execution_count": null,
   "id": "7b32ecb2",
   "metadata": {},
   "outputs": [],
   "source": []
  },
  {
   "cell_type": "markdown",
   "id": "e84f8666",
   "metadata": {},
   "source": [
    "## Semantic Textual Similarity"
   ]
  },
  {
   "cell_type": "code",
   "execution_count": null,
   "id": "07c80792",
   "metadata": {},
   "outputs": [],
   "source": [
    "from sentence_transformers import SentenceTransformer, util\n",
    "model_sts = SentenceTransformer('all-MiniLM-L6-v2')\n"
   ]
  },
  {
   "cell_type": "code",
   "execution_count": null,
   "id": "2673a2e8",
   "metadata": {},
   "outputs": [],
   "source": [
    "# Two lists of sentences\n",
    "sentences1 = ['The cat sits outside',\n",
    "             'A man is playing guitar',\n",
    "             'The new movie is awesome']\n",
    "\n",
    "sentences2 = ['The dog plays in the garden',\n",
    "              'A woman watches TV',\n",
    "              'The new movie is so great']\n",
    "\n",
    "#Compute embedding for both lists\n",
    "embeddings1 = model_sts.encode(sentences1, convert_to_tensor=True)\n",
    "embeddings2 = model_sts.encode(sentences2, convert_to_tensor=True)\n",
    "\n",
    "#Compute cosine-similarits\n",
    "cosine_scores = util.pytorch_cos_sim(embeddings1, embeddings2)\n"
   ]
  },
  {
   "cell_type": "code",
   "execution_count": null,
   "id": "123af71e",
   "metadata": {},
   "outputs": [],
   "source": [
    "#Output the pairs with their score\n",
    "for i in range(len(sentences1)):\n",
    "    print(\"{} \\t\\t {} \\t\\t Score: {:.4f}\".format(sentences1[i], sentences2[i], cosine_scores[i][i]))\n"
   ]
  },
  {
   "cell_type": "code",
   "execution_count": null,
   "id": "f432baae",
   "metadata": {},
   "outputs": [],
   "source": [
    "cosine_scores"
   ]
  },
  {
   "cell_type": "code",
   "execution_count": null,
   "id": "9d8caa33",
   "metadata": {},
   "outputs": [],
   "source": []
  },
  {
   "cell_type": "code",
   "execution_count": null,
   "id": "bb867860",
   "metadata": {},
   "outputs": [],
   "source": []
  }
 ],
 "metadata": {
  "kernelspec": {
   "display_name": "Python 3",
   "language": "python",
   "name": "python3"
  },
  "language_info": {
   "codemirror_mode": {
    "name": "ipython",
    "version": 3
   },
   "file_extension": ".py",
   "mimetype": "text/x-python",
   "name": "python",
   "nbconvert_exporter": "python",
   "pygments_lexer": "ipython3",
   "version": "3.8.10"
  }
 },
 "nbformat": 4,
 "nbformat_minor": 5
}
