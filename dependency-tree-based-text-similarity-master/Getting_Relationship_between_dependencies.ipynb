{
 "cells": [
  {
   "cell_type": "code",
   "execution_count": 2,
   "metadata": {},
   "outputs": [],
   "source": [
    "import torch\n",
    "from torch.nn import MSELoss, Module\n",
    "import spacy\n",
    "from nltk.corpus import wordnet as wn\n",
    "import numpy as np\n",
    "import pandas as pd\n",
    "import json"
   ]
  },
  {
   "cell_type": "code",
   "execution_count": 3,
   "metadata": {},
   "outputs": [],
   "source": [
    "nlp = spacy.load(\"en_core_web_sm\")"
   ]
  },
  {
   "cell_type": "code",
   "execution_count": 4,
   "metadata": {},
   "outputs": [],
   "source": [
    "def get_batches(data, batch_size):\n",
    "    \n",
    "    no_of_batches = len(data) // batch_size\n",
    "    \n",
    "    for n in range(0, len(data), no_of_batches):\n",
    "        \n",
    "        try:\n",
    "            \n",
    "            x1 = data.sent_1.iloc[n:n + no_of_batches].values\n",
    "            x2 = data.sent_2.iloc[n:n + no_of_batches].values\n",
    "            Y = data.score.iloc[n:n + no_of_batches].values\n",
    "        \n",
    "        except IndexError:\n",
    "            \n",
    "            x1 = data.sent_1.iloc[n:].values\n",
    "            x2 = data.sent_2.iloc[n:].values\n",
    "            Y = data.score.iloc[n:].values\n",
    "    \n",
    "    yield x1, x2, Y"
   ]
  },
  {
   "cell_type": "code",
   "execution_count": 5,
   "metadata": {},
   "outputs": [],
   "source": [
    "class TextSimilarity():\n",
    "    \n",
    "    def __init__(self, tags_dict = None, correlation_matrix = None):\n",
    "        \n",
    "        self._tags = self._get_tags_dict() if tags_dict is None else tags_dict\n",
    "        self._no_of_tags = len(self._tags)\n",
    "#         TODO: initialize weights to identity, random, zeros\n",
    "        self._tag_correlation_matrix = np.identity(self._no_of_tags) if correlation_matrix is None else correlation_matrix\n",
    "        #self._parser = spacy.load(\"en\")\n",
    "        self._parser = spacy.load('en_core_web_sm')\n",
    "        \n",
    "    def _get_tags_dict(self):\n",
    "        \n",
    "        with open(\"data/tags.json\",\"r\") as fl:\n",
    "            tags = json.load(fl)\n",
    "            \n",
    "        return tags\n",
    "    \n",
    "    def _similarity_word(self, pair_A, pair_B):\n",
    "\n",
    "        #getting head and dependent texts \n",
    "        head_a, head_b = pair_A[0].text, pair_B[0].text\n",
    "        dep_a, dep_b = pair_A[2].text, pair_B[2].text\n",
    "\n",
    "        if head_a == head_b:\n",
    "            head = 1\n",
    "        else:\n",
    "            try:\n",
    "                #WordNet synsets for heads\n",
    "                head_a, head_b = wn.synsets(head_a)[0], wn.synsets(head_b)[0]\n",
    "                \n",
    "#                 TODO:Change similarity method\n",
    "                #path based similarity (Li et. al) for head\n",
    "                head = head_a.path_similarity(head_b)\n",
    "\n",
    "                head = 0 if head is None else head  \n",
    "\n",
    "            except Exception:\n",
    "                head = 0\n",
    "\n",
    "        if dep_a == dep_b:\n",
    "            dep = 1\n",
    "        else:\n",
    "            try:\n",
    "                #WordNet synsets for dependent\n",
    "                dep_a, dep_b = wn.synsets(dep_a)[0], wn.synsets(dep_b)[0]\n",
    "                \n",
    "#                 TODO:Change similarity method\n",
    "                #path based similarity (Li et. al) for dependent\n",
    "                dep = dep_a.path_similarity(dep_b)\n",
    "\n",
    "                dep = 0 if dep is None else dep\n",
    "\n",
    "            except Exception:\n",
    "                dep = 0     \n",
    "\n",
    "        return head + dep\n",
    "\n",
    "    def _similarity_tag(self, tag_a, tag_b):\n",
    "        \n",
    "        tag_a_id, tag_b_id = self._tags[tag_a], self._tags[tag_b] \n",
    "        score = self._tag_correlation_matrix[tag_a_id,tag_b_id]\n",
    "        \n",
    "        return score\n",
    "    \n",
    "    def semantic_similarity(self, documents_1, documents_2):\n",
    "        \n",
    "        #checking the sizes of both documents\n",
    "        assert len(documents_1) == len(documents_2), \"Size of both lists should be same.\"\n",
    "        \n",
    "        #scores vector\n",
    "        scores = torch.zeros([len(documents_1),],dtype=torch.double)\n",
    "        \n",
    "        i = 0\n",
    "            \n",
    "        for document_1, document_2 in zip(documents_1,documents_2):\n",
    "            \n",
    "            #parsing documets using spaCy English language parser\n",
    "            tokens_1,tokens_2 = self._parser(document_1), self._parser(document_2)\n",
    "\n",
    "            #seperating dependency pairs and tags from tokens\n",
    "            pairs_1 = [(token.head,token.dep_,token) for token in tokens_1]\n",
    "            pairs_2 = [(token.head,token.dep_,token) for token in tokens_2]\n",
    "\n",
    "            score = 0\n",
    "\n",
    "            #calculating score \n",
    "            for pair_A in pairs_1:\n",
    "\n",
    "                for pair_B in pairs_2:\n",
    "\n",
    "                    score += self._similarity_word(pair_A, pair_B) * self._similarity_tag(pair_A[1], pair_B[1])\n",
    "\n",
    "            #averaging score \n",
    "            #score = score / (len(tokens_1) + len(tokens_2))\n",
    "            \n",
    "            score = torch.sigmoid(score)\n",
    "            \n",
    "            scores[i] += score\n",
    "            \n",
    "            i += 1\n",
    "\n",
    "        return scores "
   ]
  },
  {
   "cell_type": "code",
   "execution_count": 6,
   "metadata": {},
   "outputs": [
    {
     "name": "stdout",
     "output_type": "stream",
     "text": [
      "tensor([[1., 0., 0.,  ..., 0., 0., 0.],\n",
      "        [0., 1., 0.,  ..., 0., 0., 0.],\n",
      "        [0., 0., 1.,  ..., 0., 0., 0.],\n",
      "        ...,\n",
      "        [0., 0., 0.,  ..., 1., 0., 0.],\n",
      "        [0., 0., 0.,  ..., 0., 1., 0.],\n",
      "        [0., 0., 0.,  ..., 0., 0., 1.]], dtype=torch.float64)\n",
      "tensor([0.9943, 0.9945], dtype=torch.float64, grad_fn=<CopySlices>)\n",
      "tensor([[1., 0., 0.,  ..., 0., 0., 0.],\n",
      "        [0., 1., 0.,  ..., 0., 0., 0.],\n",
      "        [0., 0., 1.,  ..., 0., 0., 0.],\n",
      "        ...,\n",
      "        [0., 0., 0.,  ..., 1., 0., 0.],\n",
      "        [0., 0., 0.,  ..., 0., 1., 0.],\n",
      "        [0., 0., 0.,  ..., 0., 0., 1.]], dtype=torch.float64,\n",
      "       requires_grad=True)\n"
     ]
    }
   ],
   "source": [
    "sim = TextSimilarity()\n",
    "sim._tag_correlation_matrix = torch.from_numpy(sim._tag_correlation_matrix)\n",
    "print(sim._tag_correlation_matrix )\n",
    "sim._tag_correlation_matrix.requires_grad = True\n",
    "sent_1 = [\"he is boy\",\"it is dog\"]\n",
    "sent_2 = [\"he is girl\",\"it is cat\"]\n",
    "score = sim.semantic_similarity(sent_1,sent_2)\n",
    "print(score)\n",
    "print(sim._tag_correlation_matrix)\n"
   ]
  },
  {
   "cell_type": "code",
   "execution_count": 7,
   "metadata": {},
   "outputs": [
    {
     "name": "stdout",
     "output_type": "stream",
     "text": [
      "torch.Size([44, 44])\n"
     ]
    }
   ],
   "source": [
    "print(sim._tag_correlation_matrix.shape)"
   ]
  },
  {
   "cell_type": "code",
   "execution_count": 8,
   "metadata": {},
   "outputs": [
    {
     "data": {
      "text/plain": [
       "tensor([0.9943, 0.9945], dtype=torch.float64, grad_fn=<CopySlices>)"
      ]
     },
     "execution_count": 8,
     "metadata": {},
     "output_type": "execute_result"
    }
   ],
   "source": [
    "score"
   ]
  },
  {
   "cell_type": "code",
   "execution_count": 9,
   "metadata": {},
   "outputs": [
    {
     "name": "stdout",
     "output_type": "stream",
     "text": [
      "0.06225100073703524\n",
      "tensor([[0.0054, 0.0000, 0.0000,  ..., 0.0000, 0.0000, 0.0000],\n",
      "        [0.0000, 0.0000, 0.0000,  ..., 0.0000, 0.0000, 0.0000],\n",
      "        [0.0000, 0.0000, 0.0000,  ..., 0.0000, 0.0000, 0.0000],\n",
      "        ...,\n",
      "        [0.0000, 0.0000, 0.0000,  ..., 0.0000, 0.0000, 0.0000],\n",
      "        [0.0000, 0.0000, 0.0000,  ..., 0.0000, 0.0000, 0.0000],\n",
      "        [0.0000, 0.0000, 0.0000,  ..., 0.0000, 0.0000, 0.0000]],\n",
      "       dtype=torch.float64)\n"
     ]
    },
    {
     "data": {
      "text/plain": [
       "tensor([[0.9990, 0.0000, 0.0000,  ..., 0.0000, 0.0000, 0.0000],\n",
       "        [0.0000, 1.0000, 0.0000,  ..., 0.0000, 0.0000, 0.0000],\n",
       "        [0.0000, 0.0000, 1.0000,  ..., 0.0000, 0.0000, 0.0000],\n",
       "        ...,\n",
       "        [0.0000, 0.0000, 0.0000,  ..., 1.0000, 0.0000, 0.0000],\n",
       "        [0.0000, 0.0000, 0.0000,  ..., 0.0000, 1.0000, 0.0000],\n",
       "        [0.0000, 0.0000, 0.0000,  ..., 0.0000, 0.0000, 1.0000]],\n",
       "       dtype=torch.float64, requires_grad=True)"
      ]
     },
     "execution_count": 9,
     "metadata": {},
     "output_type": "execute_result"
    }
   ],
   "source": [
    "loss = MSELoss()\n",
    "optimizer = torch.optim.Adam([sim._tag_correlation_matrix], lr=0.001)\n",
    "target = torch.DoubleTensor([.8,.7])\n",
    "target.requires_grad = True\n",
    "loss_score = loss(score, target)\n",
    "print(loss_score.item())\n",
    "loss_score.backward()\n",
    "print(sim._tag_correlation_matrix.grad)\n",
    "optimizer.step()\n",
    "sim._tag_correlation_matrix"
   ]
  },
  {
   "cell_type": "code",
   "execution_count": 11,
   "metadata": {},
   "outputs": [
    {
     "data": {
      "text/plain": [
       "tensor([0.9943, 0.9944], dtype=torch.float64, grad_fn=<CopySlices>)"
      ]
     },
     "execution_count": 11,
     "metadata": {},
     "output_type": "execute_result"
    }
   ],
   "source": [
    "score = sim.semantic_similarity(sent_1,sent_2)\n",
    "score"
   ]
  },
  {
   "cell_type": "code",
   "execution_count": 12,
   "metadata": {},
   "outputs": [
    {
     "data": {
      "text/plain": [
       "tensor([[0.9990, 0.0000, 0.0000,  ..., 0.0000, 0.0000, 0.0000],\n",
       "        [0.0000, 1.0000, 0.0000,  ..., 0.0000, 0.0000, 0.0000],\n",
       "        [0.0000, 0.0000, 1.0000,  ..., 0.0000, 0.0000, 0.0000],\n",
       "        ...,\n",
       "        [0.0000, 0.0000, 0.0000,  ..., 1.0000, 0.0000, 0.0000],\n",
       "        [0.0000, 0.0000, 0.0000,  ..., 0.0000, 1.0000, 0.0000],\n",
       "        [0.0000, 0.0000, 0.0000,  ..., 0.0000, 0.0000, 1.0000]],\n",
       "       dtype=torch.float64, requires_grad=True)"
      ]
     },
     "execution_count": 12,
     "metadata": {},
     "output_type": "execute_result"
    }
   ],
   "source": [
    "sim._tag_correlation_matrix"
   ]
  },
  {
   "cell_type": "code",
   "execution_count": 16,
   "metadata": {},
   "outputs": [],
   "source": [
    "def train(data, model, epochs = 25, lr = 0.001, validation_thresh = 0.2, batch_size = 10, print_every = 5):\n",
    "    \n",
    "    model._tag_correlation_matrix = torch.from_numpy(model._tag_correlation_matrix)\n",
    "    model._tag_correlation_matrix.requires_grad = True\n",
    "    \n",
    "    criterion = MSELoss()\n",
    "    optimizer = torch.optim.Adam([model._tag_correlation_matrix], lr=lr)\n",
    "    \n",
    "    thresh = int(validation_thresh * len(data))\n",
    "    \n",
    "    train_data = data.iloc[:thresh]\n",
    "    valid_data = data.iloc[thresh:]\n",
    "    \n",
    "    train_losses = []\n",
    "    valid_losses = []\n",
    "    count = 0\n",
    "    \n",
    "    for epoch in range(epochs):\n",
    "        \n",
    "        losses = []\n",
    "        \n",
    "        for x1, x2, Y in get_batches(train_data, batch_size):\n",
    "            \n",
    "            count += 1\n",
    "        \n",
    "            scores = model.semantic_similarity(x1, x2)\n",
    "            \n",
    "            Y = torch.DoubleTensor(Y)\n",
    "            \n",
    "            loss = criterion(scores, Y)\n",
    "            \n",
    "            losses.append(loss.item())\n",
    "            \n",
    "            optimizer.zero_grad()\n",
    "            \n",
    "            loss.backward()\n",
    "            \n",
    "            optimizer.step()\n",
    "            \n",
    "            \n",
    "            if count % print_every == 0:\n",
    "                \n",
    "                train_losses.append(np.mean(losses))\n",
    "                losses = []\n",
    "                \n",
    "                for x1, x2, Y in get_batches(valid_data, batch_size):\n",
    "                    \n",
    "                    scores = model.semantic_similarity(x1, x2)\n",
    "                    \n",
    "                    Y = torch.DoubleTensor(Y)\n",
    "                    \n",
    "                    loss = criterion(scores, Y)\n",
    "\n",
    "                    losses.append(loss.item())\n",
    "                    \n",
    "                valid_losses.append(np.mean(losses))\n",
    "                \n",
    "                print(f\"{count} {epoch}/{epochs}\\ttraining loss:{train_losses[-1]}\\tvalididation loss:{valid_losses[-1]}\")\n",
    "    \n",
    "    return train_losses,valid_losses"
   ]
  },
  {
   "cell_type": "code",
   "execution_count": 13,
   "metadata": {},
   "outputs": [
    {
     "data": {
      "text/html": [
       "<div>\n",
       "<style scoped>\n",
       "    .dataframe tbody tr th:only-of-type {\n",
       "        vertical-align: middle;\n",
       "    }\n",
       "\n",
       "    .dataframe tbody tr th {\n",
       "        vertical-align: top;\n",
       "    }\n",
       "\n",
       "    .dataframe thead th {\n",
       "        text-align: right;\n",
       "    }\n",
       "</style>\n",
       "<table border=\"1\" class=\"dataframe\">\n",
       "  <thead>\n",
       "    <tr style=\"text-align: right;\">\n",
       "      <th></th>\n",
       "      <th>Unnamed: 0.1</th>\n",
       "      <th>Unnamed: 0</th>\n",
       "      <th>sent_1</th>\n",
       "      <th>sent_2</th>\n",
       "      <th>score</th>\n",
       "    </tr>\n",
       "  </thead>\n",
       "  <tbody>\n",
       "    <tr>\n",
       "      <th>0</th>\n",
       "      <td>0</td>\n",
       "      <td>0.0</td>\n",
       "      <td>The problem likely will mean corrective change...</td>\n",
       "      <td>He said the problem needs to be corrected befo...</td>\n",
       "      <td>0.88</td>\n",
       "    </tr>\n",
       "    <tr>\n",
       "      <th>1</th>\n",
       "      <td>1</td>\n",
       "      <td>1.0</td>\n",
       "      <td>The technology-laced Nasdaq Composite Index .I...</td>\n",
       "      <td>The broad Standard &amp; Poor's 500 Index .SPX inc...</td>\n",
       "      <td>0.16</td>\n",
       "    </tr>\n",
       "    <tr>\n",
       "      <th>2</th>\n",
       "      <td>2</td>\n",
       "      <td>2.0</td>\n",
       "      <td>\"It's a huge black eye,\" said publisher Arthur...</td>\n",
       "      <td>\"It's a huge black eye,\" Arthur Sulzberger, th...</td>\n",
       "      <td>0.72</td>\n",
       "    </tr>\n",
       "    <tr>\n",
       "      <th>3</th>\n",
       "      <td>3</td>\n",
       "      <td>3.0</td>\n",
       "      <td>SEC Chairman William Donaldson said there is a...</td>\n",
       "      <td>\"I think there's a building confidence that th...</td>\n",
       "      <td>0.68</td>\n",
       "    </tr>\n",
       "    <tr>\n",
       "      <th>4</th>\n",
       "      <td>4</td>\n",
       "      <td>4.0</td>\n",
       "      <td>Vivendi shares closed 1.9 percent at 15.80 eur...</td>\n",
       "      <td>In New York, Vivendi shares were 1.4 percent d...</td>\n",
       "      <td>0.28</td>\n",
       "    </tr>\n",
       "    <tr>\n",
       "      <th>5</th>\n",
       "      <td>5</td>\n",
       "      <td>5.0</td>\n",
       "      <td>Myanmar's pro-democracy leader Aung San Suu Ky...</td>\n",
       "      <td>Myanmar's pro-democracy leader Aung San Suu Ky...</td>\n",
       "      <td>0.92</td>\n",
       "    </tr>\n",
       "    <tr>\n",
       "      <th>6</th>\n",
       "      <td>6</td>\n",
       "      <td>6.0</td>\n",
       "      <td>Darren Dopp, a Spitzer spokesman, declined to ...</td>\n",
       "      <td>John Heine, a spokesman for the commission in ...</td>\n",
       "      <td>0.28</td>\n",
       "    </tr>\n",
       "    <tr>\n",
       "      <th>7</th>\n",
       "      <td>7</td>\n",
       "      <td>7.0</td>\n",
       "      <td>Bremer said one initiative is to launch a US$7...</td>\n",
       "      <td>Bremer said he would launch a $70-million prog...</td>\n",
       "      <td>0.72</td>\n",
       "    </tr>\n",
       "    <tr>\n",
       "      <th>8</th>\n",
       "      <td>8</td>\n",
       "      <td>8.0</td>\n",
       "      <td>In afternoon trading in Europe, France's CAC-4...</td>\n",
       "      <td>In Europe, France's CAC-40 rose 1.3 percent, B...</td>\n",
       "      <td>0.40</td>\n",
       "    </tr>\n",
       "    <tr>\n",
       "      <th>9</th>\n",
       "      <td>9</td>\n",
       "      <td>9.0</td>\n",
       "      <td>He later learned that the incident was caused ...</td>\n",
       "      <td>He later found out the alarming incident had b...</td>\n",
       "      <td>1.00</td>\n",
       "    </tr>\n",
       "  </tbody>\n",
       "</table>\n",
       "</div>"
      ],
      "text/plain": [
       "   Unnamed: 0.1  Unnamed: 0  \\\n",
       "0             0         0.0   \n",
       "1             1         1.0   \n",
       "2             2         2.0   \n",
       "3             3         3.0   \n",
       "4             4         4.0   \n",
       "5             5         5.0   \n",
       "6             6         6.0   \n",
       "7             7         7.0   \n",
       "8             8         8.0   \n",
       "9             9         9.0   \n",
       "\n",
       "                                              sent_1  \\\n",
       "0  The problem likely will mean corrective change...   \n",
       "1  The technology-laced Nasdaq Composite Index .I...   \n",
       "2  \"It's a huge black eye,\" said publisher Arthur...   \n",
       "3  SEC Chairman William Donaldson said there is a...   \n",
       "4  Vivendi shares closed 1.9 percent at 15.80 eur...   \n",
       "5  Myanmar's pro-democracy leader Aung San Suu Ky...   \n",
       "6  Darren Dopp, a Spitzer spokesman, declined to ...   \n",
       "7  Bremer said one initiative is to launch a US$7...   \n",
       "8  In afternoon trading in Europe, France's CAC-4...   \n",
       "9  He later learned that the incident was caused ...   \n",
       "\n",
       "                                              sent_2  score  \n",
       "0  He said the problem needs to be corrected befo...   0.88  \n",
       "1  The broad Standard & Poor's 500 Index .SPX inc...   0.16  \n",
       "2  \"It's a huge black eye,\" Arthur Sulzberger, th...   0.72  \n",
       "3  \"I think there's a building confidence that th...   0.68  \n",
       "4  In New York, Vivendi shares were 1.4 percent d...   0.28  \n",
       "5  Myanmar's pro-democracy leader Aung San Suu Ky...   0.92  \n",
       "6  John Heine, a spokesman for the commission in ...   0.28  \n",
       "7  Bremer said he would launch a $70-million prog...   0.72  \n",
       "8  In Europe, France's CAC-40 rose 1.3 percent, B...   0.40  \n",
       "9  He later found out the alarming incident had b...   1.00  "
      ]
     },
     "execution_count": 13,
     "metadata": {},
     "output_type": "execute_result"
    }
   ],
   "source": [
    "data = pd.read_csv(\"data/STS_Data1213.csv\",index_col=None)\n",
    "data.score = data.score/5.0\n",
    "data.head(10)"
   ]
  },
  {
   "cell_type": "code",
   "execution_count": 14,
   "metadata": {},
   "outputs": [],
   "source": [
    "model = TextSimilarity()\n",
    "thresh = int(0.8 * len(data))\n",
    "\n",
    "train_data = data.iloc[:thresh]\n",
    "test_data = data.iloc[thresh:]"
   ]
  },
  {
   "cell_type": "code",
   "execution_count": 17,
   "metadata": {},
   "outputs": [
    {
     "name": "stdout",
     "output_type": "stream",
     "text": [
      "5 4/200\ttraining loss:0.1577291829401076\tvalididation loss:0.1783375198588286\n",
      "10 9/200\ttraining loss:0.15728344917304762\tvalididation loss:0.1804730303276525\n",
      "15 14/200\ttraining loss:0.15538885139573352\tvalididation loss:0.19271314876798834\n",
      "20 19/200\ttraining loss:0.14856060028679688\tvalididation loss:0.20855987783362778\n",
      "25 24/200\ttraining loss:0.1333563197057729\tvalididation loss:0.219487517058085\n",
      "30 29/200\ttraining loss:0.10828713656480278\tvalididation loss:0.22098701012706126\n",
      "35 34/200\ttraining loss:0.11455359711914002\tvalididation loss:0.22071769711162562\n",
      "40 39/200\ttraining loss:0.07087490610687906\tvalididation loss:0.2198690019388132\n",
      "45 44/200\ttraining loss:0.07130044812533702\tvalididation loss:0.21873308322344404\n",
      "50 49/200\ttraining loss:0.05210152827839847\tvalididation loss:0.21800020169044654\n",
      "55 54/200\ttraining loss:0.02236801281699485\tvalididation loss:0.2176876986988361\n",
      "60 59/200\ttraining loss:0.02122762508178003\tvalididation loss:0.21734036564204004\n",
      "65 64/200\ttraining loss:0.023088648559967416\tvalididation loss:0.2178289598592541\n",
      "70 69/200\ttraining loss:0.021415662488470027\tvalididation loss:0.2172976359316887\n",
      "75 74/200\ttraining loss:0.018897319335729707\tvalididation loss:0.21751604975660493\n",
      "80 79/200\ttraining loss:0.01787307525969146\tvalididation loss:0.21749479571841374\n",
      "85 84/200\ttraining loss:0.017477182603232062\tvalididation loss:0.21723402968111083\n",
      "90 89/200\ttraining loss:0.017490764005072438\tvalididation loss:0.2173534844488334\n",
      "95 94/200\ttraining loss:0.017036826895054234\tvalididation loss:0.21727552209854334\n",
      "100 99/200\ttraining loss:0.01644780909212621\tvalididation loss:0.2170944304093414\n",
      "105 104/200\ttraining loss:0.015820005540731492\tvalididation loss:0.21697154129193688\n",
      "110 109/200\ttraining loss:0.014357813799580735\tvalididation loss:0.21664088080420346\n",
      "115 114/200\ttraining loss:0.010985981338821674\tvalididation loss:0.21605378045919016\n",
      "120 119/200\ttraining loss:0.003457113744307395\tvalididation loss:0.21499018266117387\n",
      "125 124/200\ttraining loss:0.0013249165049585164\tvalididation loss:0.21383540128492085\n",
      "130 129/200\ttraining loss:0.0017160753610010043\tvalididation loss:0.21403012392523854\n",
      "135 134/200\ttraining loss:0.00027823272333204324\tvalididation loss:0.2148204747059458\n",
      "140 139/200\ttraining loss:0.0007942399023984917\tvalididation loss:0.21492154769573282\n",
      "145 144/200\ttraining loss:7.609648202475031e-05\tvalididation loss:0.2144888689688754\n",
      "150 149/200\ttraining loss:0.00023445030827117373\tvalididation loss:0.2142417633020099\n",
      "155 154/200\ttraining loss:6.594590284352084e-05\tvalididation loss:0.21444077188037985\n",
      "160 159/200\ttraining loss:5.653132216226636e-05\tvalididation loss:0.21463869596002982\n",
      "165 164/200\ttraining loss:4.0595803667912154e-05\tvalididation loss:0.21456469094367034\n",
      "170 169/200\ttraining loss:1.0604563256712954e-05\tvalididation loss:0.21442807880628087\n",
      "175 174/200\ttraining loss:1.8387574926111454e-05\tvalididation loss:0.214439989980599\n",
      "180 179/200\ttraining loss:2.161813660344056e-06\tvalididation loss:0.21452499179720805\n",
      "185 184/200\ttraining loss:7.353113374218706e-06\tvalididation loss:0.21453523145571946\n",
      "190 189/200\ttraining loss:4.0709103619667986e-07\tvalididation loss:0.21448359984938234\n",
      "195 194/200\ttraining loss:2.7401896331281396e-06\tvalididation loss:0.21447010699665\n",
      "200 199/200\ttraining loss:5.668747669287207e-08\tvalididation loss:0.21449887584735525\n"
     ]
    }
   ],
   "source": [
    "#TODO: change epoch, lr, batch_size\n",
    "epoch = 200\n",
    "lr = 0.01\n",
    "batch_size = 10\n",
    "\n",
    "train_losses,valid_losses = train(train_data, model, epochs=epoch, lr=lr, batch_size = batch_size)"
   ]
  },
  {
   "cell_type": "code",
   "execution_count": 18,
   "metadata": {},
   "outputs": [
    {
     "data": {
      "text/plain": [
       "tensor([[ 0.7640,  0.0000, -0.3066,  ..., -0.1067, -0.2101, -0.2123],\n",
       "        [ 0.0000,  1.0000,  0.0000,  ...,  0.0000,  0.0000,  0.0000],\n",
       "        [-0.2917,  0.0000,  0.7024,  ...,  0.0000,  0.0000, -0.2678],\n",
       "        ...,\n",
       "        [ 0.0000,  0.0000,  0.0000,  ...,  1.0000,  0.0000,  0.0000],\n",
       "        [-0.2101,  0.0000,  0.0000,  ...,  0.0000,  0.7338, -0.2069],\n",
       "        [-0.2779,  0.0000, -0.2679,  ...,  0.0000, -0.2069,  0.7140]],\n",
       "       dtype=torch.float64, requires_grad=True)"
      ]
     },
     "execution_count": 18,
     "metadata": {},
     "output_type": "execute_result"
    }
   ],
   "source": [
    "model._tag_correlation_matrix"
   ]
  },
  {
   "cell_type": "code",
   "execution_count": 19,
   "metadata": {},
   "outputs": [],
   "source": [
    "test_Y = test_data.score\n",
    "scores = model.semantic_similarity(test_data.sent_1, test_data.sent_2)"
   ]
  },
  {
   "cell_type": "code",
   "execution_count": 20,
   "metadata": {},
   "outputs": [
    {
     "data": {
      "text/plain": [
       "[<matplotlib.lines.Line2D at 0x7f673e5a2b50>]"
      ]
     },
     "execution_count": 20,
     "metadata": {},
     "output_type": "execute_result"
    },
    {
     "data": {
      "image/png": "[encoded data removed]",
      "text/plain": [
       "<Figure size 432x288 with 1 Axes>"
      ]
     },
     "metadata": {
      "needs_background": "light"
     },
     "output_type": "display_data"
    }
   ],
   "source": [
    "import matplotlib.pyplot as plt\n",
    "\n",
    "plt.plot(train_losses)\n",
    "plt.plot(valid_losses)"
   ]
  },
  {
   "cell_type": "code",
   "execution_count": 21,
   "metadata": {},
   "outputs": [
    {
     "data": {
      "text/plain": [
       "tensor(0.2603, dtype=torch.float64, grad_fn=<MseLossBackward>)"
      ]
     },
     "execution_count": 21,
     "metadata": {},
     "output_type": "execute_result"
    }
   ],
   "source": [
    "test_Y = torch.DoubleTensor(test_Y.values)\n",
    "loss(scores,test_Y)"
   ]
  },
  {
   "cell_type": "code",
   "execution_count": null,
   "metadata": {},
   "outputs": [],
   "source": []
  }
 ],
 "metadata": {
  "kernelspec": {
   "display_name": "Python 3 (ipykernel)",
   "language": "python",
   "name": "python3"
  },
  "language_info": {
   "codemirror_mode": {
    "name": "ipython",
    "version": 3
   },
   "file_extension": ".py",
   "mimetype": "text/x-python",
   "name": "python",
   "nbconvert_exporter": "python",
   "pygments_lexer": "ipython3",
   "version": "3.9.5"
  }
 },
 "nbformat": 4,
 "nbformat_minor": 2
}
